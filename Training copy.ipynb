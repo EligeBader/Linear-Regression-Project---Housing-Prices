{
 "cells": [
  {
   "cell_type": "code",
   "execution_count": 22,
   "metadata": {},
   "outputs": [],
   "source": [
    "import pandas as pd\n",
    "import numpy as np\n",
    "from sklearn.preprocessing import TargetEncoder, LabelEncoder, OrdinalEncoder, MinMaxScaler, OneHotEncoder, power_transform, PowerTransformer\n",
    "import category_encoders as ce\n",
    "from sklearn.linear_model import LinearRegression\n",
    "from sklearn.metrics import mean_absolute_error, mean_squared_error\n",
    "from scipy.stats import yeojohnson\n",
    "import pickle\n",
    "from pathlib import Path\n",
    "from sklearn.model_selection import train_test_split\n",
    "from sklearn.impute import SimpleImputer, KNNImputer\n",
    "import dill\n",
    "import os\n",
    "import xgboost as xgb\n",
    "from sklearn.model_selection import GridSearchCV\n",
    "from helper_functions import *"
   ]
  },
  {
   "cell_type": "code",
   "execution_count": 23,
   "metadata": {},
   "outputs": [],
   "source": [
    "df = load_data('train.csv')"
   ]
  },
  {
   "cell_type": "code",
   "execution_count": 3,
   "metadata": {},
   "outputs": [
    {
     "name": "stdout",
     "output_type": "stream",
     "text": [
      "<class 'pandas.core.frame.DataFrame'>\n",
      "RangeIndex: 1460 entries, 0 to 1459\n",
      "Data columns (total 81 columns):\n",
      " #   Column         Non-Null Count  Dtype  \n",
      "---  ------         --------------  -----  \n",
      " 0   Id             1460 non-null   int64  \n",
      " 1   MSSubClass     1460 non-null   int64  \n",
      " 2   MSZoning       1460 non-null   object \n",
      " 3   LotFrontage    1201 non-null   float64\n",
      " 4   LotArea        1460 non-null   int64  \n",
      " 5   Street         1460 non-null   object \n",
      " 6   Alley          91 non-null     object \n",
      " 7   LotShape       1460 non-null   object \n",
      " 8   LandContour    1460 non-null   object \n",
      " 9   Utilities      1460 non-null   object \n",
      " 10  LotConfig      1460 non-null   object \n",
      " 11  LandSlope      1460 non-null   object \n",
      " 12  Neighborhood   1460 non-null   object \n",
      " 13  Condition1     1460 non-null   object \n",
      " 14  Condition2     1460 non-null   object \n",
      " 15  BldgType       1460 non-null   object \n",
      " 16  HouseStyle     1460 non-null   object \n",
      " 17  OverallQual    1460 non-null   int64  \n",
      " 18  OverallCond    1460 non-null   int64  \n",
      " 19  YearBuilt      1460 non-null   int64  \n",
      " 20  YearRemodAdd   1460 non-null   int64  \n",
      " 21  RoofStyle      1460 non-null   object \n",
      " 22  RoofMatl       1460 non-null   object \n",
      " 23  Exterior1st    1460 non-null   object \n",
      " 24  Exterior2nd    1460 non-null   object \n",
      " 25  MasVnrType     588 non-null    object \n",
      " 26  MasVnrArea     1452 non-null   float64\n",
      " 27  ExterQual      1460 non-null   object \n",
      " 28  ExterCond      1460 non-null   object \n",
      " 29  Foundation     1460 non-null   object \n",
      " 30  BsmtQual       1423 non-null   object \n",
      " 31  BsmtCond       1423 non-null   object \n",
      " 32  BsmtExposure   1422 non-null   object \n",
      " 33  BsmtFinType1   1423 non-null   object \n",
      " 34  BsmtFinSF1     1460 non-null   int64  \n",
      " 35  BsmtFinType2   1422 non-null   object \n",
      " 36  BsmtFinSF2     1460 non-null   int64  \n",
      " 37  BsmtUnfSF      1460 non-null   int64  \n",
      " 38  TotalBsmtSF    1460 non-null   int64  \n",
      " 39  Heating        1460 non-null   object \n",
      " 40  HeatingQC      1460 non-null   object \n",
      " 41  CentralAir     1460 non-null   object \n",
      " 42  Electrical     1459 non-null   object \n",
      " 43  1stFlrSF       1460 non-null   int64  \n",
      " 44  2ndFlrSF       1460 non-null   int64  \n",
      " 45  LowQualFinSF   1460 non-null   int64  \n",
      " 46  GrLivArea      1460 non-null   int64  \n",
      " 47  BsmtFullBath   1460 non-null   int64  \n",
      " 48  BsmtHalfBath   1460 non-null   int64  \n",
      " 49  FullBath       1460 non-null   int64  \n",
      " 50  HalfBath       1460 non-null   int64  \n",
      " 51  BedroomAbvGr   1460 non-null   int64  \n",
      " 52  KitchenAbvGr   1460 non-null   int64  \n",
      " 53  KitchenQual    1460 non-null   object \n",
      " 54  TotRmsAbvGrd   1460 non-null   int64  \n",
      " 55  Functional     1460 non-null   object \n",
      " 56  Fireplaces     1460 non-null   int64  \n",
      " 57  FireplaceQu    770 non-null    object \n",
      " 58  GarageType     1379 non-null   object \n",
      " 59  GarageYrBlt    1379 non-null   float64\n",
      " 60  GarageFinish   1379 non-null   object \n",
      " 61  GarageCars     1460 non-null   int64  \n",
      " 62  GarageArea     1460 non-null   int64  \n",
      " 63  GarageQual     1379 non-null   object \n",
      " 64  GarageCond     1379 non-null   object \n",
      " 65  PavedDrive     1460 non-null   object \n",
      " 66  WoodDeckSF     1460 non-null   int64  \n",
      " 67  OpenPorchSF    1460 non-null   int64  \n",
      " 68  EnclosedPorch  1460 non-null   int64  \n",
      " 69  3SsnPorch      1460 non-null   int64  \n",
      " 70  ScreenPorch    1460 non-null   int64  \n",
      " 71  PoolArea       1460 non-null   int64  \n",
      " 72  PoolQC         7 non-null      object \n",
      " 73  Fence          281 non-null    object \n",
      " 74  MiscFeature    54 non-null     object \n",
      " 75  MiscVal        1460 non-null   int64  \n",
      " 76  MoSold         1460 non-null   int64  \n",
      " 77  YrSold         1460 non-null   int64  \n",
      " 78  SaleType       1460 non-null   object \n",
      " 79  SaleCondition  1460 non-null   object \n",
      " 80  SalePrice      1460 non-null   int64  \n",
      "dtypes: float64(3), int64(35), object(43)\n",
      "memory usage: 924.0+ KB\n"
     ]
    }
   ],
   "source": [
    "df.info()"
   ]
  },
  {
   "cell_type": "code",
   "execution_count": 4,
   "metadata": {},
   "outputs": [],
   "source": [
    "\n",
    "df = drop_features(df, features_to_drop=['Alley','PoolQC','Fence','MiscFeature', ])"
   ]
  },
  {
   "cell_type": "code",
   "execution_count": 5,
   "metadata": {},
   "outputs": [],
   "source": [
    "df = clean_data(df, target='SalePrice')"
   ]
  },
  {
   "cell_type": "code",
   "execution_count": 6,
   "metadata": {},
   "outputs": [
    {
     "data": {
      "text/plain": [
       "np.int64(0)"
      ]
     },
     "execution_count": 6,
     "metadata": {},
     "output_type": "execute_result"
    }
   ],
   "source": [
    "df.isnull().sum().sum()"
   ]
  },
  {
   "cell_type": "code",
   "execution_count": 7,
   "metadata": {},
   "outputs": [],
   "source": [
    "# with open('encode_data.pickle', 'rb') as f:\n",
    "#     encode_data = dill.load(f)\n",
    "\n",
    "# Get only categorical features:\n",
    "\n",
    "Target_Encoding_list = ['MSZoning', 'Street', 'Utilities', 'LotConfig', 'Neighborhood', 'HouseStyle', 'RoofStyle', 'RoofMatl', 'Exterior1st', 'Exterior2nd', 'MasVnrType', 'Foundation', 'BsmtFinType1', 'BsmtFinType2', 'Heating', 'Electrical', 'GarageType', 'SaleType']\n",
    "Ordinal_Encoding_list= ['LotShape', 'LandContour', 'LandSlope', 'Condition1', 'Condition2', 'BldgType', 'ExterQual', 'ExterCond', 'BsmtQual', 'BsmtCond', 'BsmtExposure', 'HeatingQC', 'KitchenQual', 'Functional', 'FireplaceQu', 'GarageFinish', 'GarageQual', 'GarageCond', 'PavedDrive', 'SaleCondition']\n",
    "\n",
    "encoding_methods = {col: 'target' for col in Target_Encoding_list} \n",
    "encoding_methods.update({col: 'ordinal' for col in Ordinal_Encoding_list}) # merge the dict with the target dict\n",
    "\n",
    "df = encode_data(df, encoding_methods, train=True, target =['SalePrice'])\n"
   ]
  },
  {
   "cell_type": "code",
   "execution_count": 10,
   "metadata": {},
   "outputs": [],
   "source": [
    "df.CentralAir = np.where(df.CentralAir == 'N', 0, 1) "
   ]
  },
  {
   "cell_type": "code",
   "execution_count": 11,
   "metadata": {},
   "outputs": [
    {
     "data": {
      "text/plain": [
       "[]"
      ]
     },
     "execution_count": 11,
     "metadata": {},
     "output_type": "execute_result"
    }
   ],
   "source": [
    "# check if al categorical were encoded\n",
    "categorical_cols = df.select_dtypes(include=['object']).columns.tolist()\n",
    "categorical_cols"
   ]
  },
  {
   "cell_type": "code",
   "execution_count": 12,
   "metadata": {},
   "outputs": [],
   "source": [
    "# with open('transform_data.pickle', 'rb') as f:\n",
    "#     transform_data = dill.load(f)\n",
    "\n",
    "df = transform_data(df, 'SalePrice')\n"
   ]
  },
  {
   "cell_type": "code",
   "execution_count": 13,
   "metadata": {},
   "outputs": [
    {
     "data": {
      "text/plain": [
       "array([-0.0769321])"
      ]
     },
     "execution_count": 13,
     "metadata": {},
     "output_type": "execute_result"
    }
   ],
   "source": [
    "# check object \n",
    "with open('pt.pickle', 'rb') as f:\n",
    "    pt = dill.load(f)\n",
    "\n",
    "pt.lambdas_"
   ]
  },
  {
   "cell_type": "code",
   "execution_count": 14,
   "metadata": {},
   "outputs": [
    {
     "data": {
      "text/plain": [
       "-4.150030202740451"
      ]
     },
     "execution_count": 14,
     "metadata": {},
     "output_type": "execute_result"
    }
   ],
   "source": [
    "min(df.transform_target)"
   ]
  },
  {
   "cell_type": "code",
   "execution_count": 15,
   "metadata": {},
   "outputs": [
    {
     "name": "stdout",
     "output_type": "stream",
     "text": [
      "<class 'pandas.core.frame.DataFrame'>\n",
      "RangeIndex: 1460 entries, 0 to 1459\n",
      "Data columns (total 78 columns):\n",
      " #   Column            Non-Null Count  Dtype  \n",
      "---  ------            --------------  -----  \n",
      " 0   Id                1460 non-null   float64\n",
      " 1   MSSubClass        1460 non-null   float64\n",
      " 2   MSZoning          1460 non-null   float64\n",
      " 3   LotFrontage       1460 non-null   float64\n",
      " 4   LotArea           1460 non-null   float64\n",
      " 5   Street            1460 non-null   float64\n",
      " 6   LotShape          1460 non-null   float64\n",
      " 7   LandContour       1460 non-null   float64\n",
      " 8   Utilities         1460 non-null   float64\n",
      " 9   LotConfig         1460 non-null   float64\n",
      " 10  LandSlope         1460 non-null   float64\n",
      " 11  Neighborhood      1460 non-null   float64\n",
      " 12  Condition1        1460 non-null   float64\n",
      " 13  Condition2        1460 non-null   float64\n",
      " 14  BldgType          1460 non-null   float64\n",
      " 15  HouseStyle        1460 non-null   float64\n",
      " 16  OverallQual       1460 non-null   float64\n",
      " 17  OverallCond       1460 non-null   float64\n",
      " 18  YearBuilt         1460 non-null   float64\n",
      " 19  YearRemodAdd      1460 non-null   float64\n",
      " 20  RoofStyle         1460 non-null   float64\n",
      " 21  RoofMatl          1460 non-null   float64\n",
      " 22  Exterior1st       1460 non-null   float64\n",
      " 23  Exterior2nd       1460 non-null   float64\n",
      " 24  MasVnrType        1460 non-null   float64\n",
      " 25  MasVnrArea        1460 non-null   float64\n",
      " 26  ExterQual         1460 non-null   float64\n",
      " 27  ExterCond         1460 non-null   float64\n",
      " 28  Foundation        1460 non-null   float64\n",
      " 29  BsmtQual          1460 non-null   float64\n",
      " 30  BsmtCond          1460 non-null   float64\n",
      " 31  BsmtExposure      1460 non-null   float64\n",
      " 32  BsmtFinType1      1460 non-null   float64\n",
      " 33  BsmtFinSF1        1460 non-null   float64\n",
      " 34  BsmtFinType2      1460 non-null   float64\n",
      " 35  BsmtFinSF2        1460 non-null   float64\n",
      " 36  BsmtUnfSF         1460 non-null   float64\n",
      " 37  TotalBsmtSF       1460 non-null   float64\n",
      " 38  Heating           1460 non-null   float64\n",
      " 39  HeatingQC         1460 non-null   float64\n",
      " 40  CentralAir        1460 non-null   int64  \n",
      " 41  Electrical        1460 non-null   float64\n",
      " 42  1stFlrSF          1460 non-null   float64\n",
      " 43  2ndFlrSF          1460 non-null   float64\n",
      " 44  LowQualFinSF      1460 non-null   float64\n",
      " 45  GrLivArea         1460 non-null   float64\n",
      " 46  BsmtFullBath      1460 non-null   float64\n",
      " 47  BsmtHalfBath      1460 non-null   float64\n",
      " 48  FullBath          1460 non-null   float64\n",
      " 49  HalfBath          1460 non-null   float64\n",
      " 50  BedroomAbvGr      1460 non-null   float64\n",
      " 51  KitchenAbvGr      1460 non-null   float64\n",
      " 52  KitchenQual       1460 non-null   float64\n",
      " 53  TotRmsAbvGrd      1460 non-null   float64\n",
      " 54  Functional        1460 non-null   float64\n",
      " 55  Fireplaces        1460 non-null   float64\n",
      " 56  FireplaceQu       1460 non-null   float64\n",
      " 57  GarageType        1460 non-null   float64\n",
      " 58  GarageYrBlt       1460 non-null   float64\n",
      " 59  GarageFinish      1460 non-null   float64\n",
      " 60  GarageCars        1460 non-null   float64\n",
      " 61  GarageArea        1460 non-null   float64\n",
      " 62  GarageQual        1460 non-null   float64\n",
      " 63  GarageCond        1460 non-null   float64\n",
      " 64  PavedDrive        1460 non-null   float64\n",
      " 65  WoodDeckSF        1460 non-null   float64\n",
      " 66  OpenPorchSF       1460 non-null   float64\n",
      " 67  EnclosedPorch     1460 non-null   float64\n",
      " 68  3SsnPorch         1460 non-null   float64\n",
      " 69  ScreenPorch       1460 non-null   float64\n",
      " 70  PoolArea          1460 non-null   float64\n",
      " 71  MiscVal           1460 non-null   float64\n",
      " 72  MoSold            1460 non-null   float64\n",
      " 73  YrSold            1460 non-null   float64\n",
      " 74  SaleType          1460 non-null   float64\n",
      " 75  SaleCondition     1460 non-null   float64\n",
      " 76  SalePrice         1460 non-null   int64  \n",
      " 77  transform_target  1460 non-null   float64\n",
      "dtypes: float64(76), int64(2)\n",
      "memory usage: 889.8 KB\n"
     ]
    }
   ],
   "source": [
    "df.info()"
   ]
  },
  {
   "cell_type": "code",
   "execution_count": 16,
   "metadata": {},
   "outputs": [],
   "source": [
    "# feature selection for streamlit project\n",
    "X_train, X_test, y_train, y_test = split_data(df, target ='transform_target', col_dropped = ['SalePrice','Id'], feature_selected= ['BedroomAbvGr', 'FullBath', 'LotArea', 'GarageCars', 'CentralAir'])"
   ]
  },
  {
   "cell_type": "code",
   "execution_count": 14,
   "metadata": {},
   "outputs": [],
   "source": [
    "# X_train, X_test, y_train, y_test = split_data(df, target ='transform_target', col_dropped = ['SalePrice','Id'], feature_selected= None)"
   ]
  },
  {
   "cell_type": "code",
   "execution_count": 17,
   "metadata": {},
   "outputs": [],
   "source": [
    "with open('splitted_fdataset.pickle', 'wb') as f:\n",
    "    dill.dump((X_train, X_test, y_train, y_test),f)"
   ]
  },
  {
   "cell_type": "code",
   "execution_count": 18,
   "metadata": {},
   "outputs": [],
   "source": [
    "with open('train_model.pickle', 'rb') as f:\n",
    "    train_model = dill.load(f)\n",
    "\n",
    "lr_model = train_model(LinearRegression, xtrain=X_train, ytrain=y_train) \n",
    "# if i need to add **args i add it at the end eg. train_model = train_model(LinearRegression, xtrain=X_train, ytrain=y_train, fit_intercept = False, etc.)\n",
    "\n",
    "\n",
    "with open('trained_fmodel.pickle', 'wb') as f: \n",
    "    dill.dump(lr_model, f)"
   ]
  },
  {
   "cell_type": "code",
   "execution_count": 19,
   "metadata": {},
   "outputs": [],
   "source": [
    "# with open('train_model.pickle', 'rb') as f:\n",
    "#     train_model = dill.load(f)\n",
    "\n",
    "param_grid = {\n",
    "    # 'max_depth': [3, 5, 7, 9],\n",
    "    # 'learning_rate': [0.1, 0.05, 0.01],\n",
    "    # 'n_estimators': [50, 100, 200, 300],\n",
    "    # 'gamma': [0, 0.1, 0.5],\n",
    "    # 'subsample': [0.5, 0.8, 1]\n",
    "}\n",
    "\n",
    "\n",
    "xgb_model = train_model(xgb.XGBRegressor, xtrain=X_train, ytrain=y_train, param_grid=param_grid, best_combination=False) "
   ]
  },
  {
   "cell_type": "code",
   "execution_count": 20,
   "metadata": {},
   "outputs": [],
   "source": [
    "with open('trained_fmodel1.pickle', 'wb') as f: \n",
    "    dill.dump(xgb_model, f)"
   ]
  },
  {
   "cell_type": "code",
   "execution_count": 21,
   "metadata": {},
   "outputs": [],
   "source": [
    "with open('ffeature_list.pickle', 'wb') as f: \n",
    "    dill.dump(X_train.columns.tolist(), f)"
   ]
  },
  {
   "cell_type": "markdown",
   "metadata": {},
   "source": [
    "### Check if model overffiting"
   ]
  },
  {
   "cell_type": "code",
   "execution_count": 20,
   "metadata": {},
   "outputs": [],
   "source": [
    "from sklearn.metrics import mean_squared_error"
   ]
  },
  {
   "cell_type": "code",
   "execution_count": 21,
   "metadata": {},
   "outputs": [],
   "source": [
    "# len(model.predict(X_train))"
   ]
  },
  {
   "cell_type": "code",
   "execution_count": 22,
   "metadata": {},
   "outputs": [],
   "source": [
    "# y_pred= model.predict(X_train)\n",
    "# len(y_pred.reshape(-1, 1).flatten())"
   ]
  },
  {
   "cell_type": "code",
   "execution_count": 23,
   "metadata": {},
   "outputs": [],
   "source": [
    "# len(y_train)"
   ]
  },
  {
   "cell_type": "code",
   "execution_count": 24,
   "metadata": {},
   "outputs": [],
   "source": [
    "# len(y_train.values)"
   ]
  },
  {
   "cell_type": "code",
   "execution_count": 25,
   "metadata": {},
   "outputs": [],
   "source": [
    "# train_rmse = mean_squared_error(y_pred.reshape(-1, 1).flatten(), y_train.values, squared=False)"
   ]
  },
  {
   "cell_type": "code",
   "execution_count": 26,
   "metadata": {},
   "outputs": [],
   "source": [
    "# test_rmse = mean_squared_error(model.predict(X_test), y_test, squared=False)"
   ]
  },
  {
   "cell_type": "code",
   "execution_count": 27,
   "metadata": {},
   "outputs": [],
   "source": [
    "# train_rmse # if train is way better than test this is overfitting"
   ]
  },
  {
   "cell_type": "code",
   "execution_count": 28,
   "metadata": {},
   "outputs": [],
   "source": [
    "# test_rmse"
   ]
  }
 ],
 "metadata": {
  "kernelspec": {
   "display_name": "Python 3",
   "language": "python",
   "name": "python3"
  },
  "language_info": {
   "codemirror_mode": {
    "name": "ipython",
    "version": 3
   },
   "file_extension": ".py",
   "mimetype": "text/x-python",
   "name": "python",
   "nbconvert_exporter": "python",
   "pygments_lexer": "ipython3",
   "version": "3.13.0"
  }
 },
 "nbformat": 4,
 "nbformat_minor": 2
}
